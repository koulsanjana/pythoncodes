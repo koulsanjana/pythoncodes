{
 "cells": [
  {
   "cell_type": "code",
   "execution_count": 1,
   "metadata": {
    "collapsed": true
   },
   "outputs": [],
   "source": [
    "import os as os"
   ]
  },
  {
   "cell_type": "code",
   "execution_count": 2,
   "metadata": {
    "collapsed": true
   },
   "outputs": [],
   "source": [
    "import pandas as pd"
   ]
  },
  {
   "cell_type": "code",
   "execution_count": 3,
   "metadata": {
    "collapsed": false
   },
   "outputs": [
    {
     "data": {
      "text/plain": [
       "'C:\\\\Users\\\\Dell'"
      ]
     },
     "execution_count": 3,
     "metadata": {},
     "output_type": "execute_result"
    }
   ],
   "source": [
    "os.getcwd()"
   ]
  },
  {
   "cell_type": "code",
   "execution_count": 4,
   "metadata": {
    "collapsed": true
   },
   "outputs": [],
   "source": [
    "os.chdir('C:\\\\Users\\\\Dell\\\\Desktop')"
   ]
  },
  {
   "cell_type": "code",
   "execution_count": 5,
   "metadata": {
    "collapsed": false
   },
   "outputs": [
    {
     "data": {
      "text/plain": [
       "'C:\\\\Users\\\\Dell\\\\Desktop'"
      ]
     },
     "execution_count": 5,
     "metadata": {},
     "output_type": "execute_result"
    }
   ],
   "source": [
    "os.getcwd()"
   ]
  },
  {
   "cell_type": "code",
   "execution_count": 6,
   "metadata": {
    "collapsed": false
   },
   "outputs": [
    {
     "data": {
      "text/plain": [
       "['.ipynb_checkpoints',\n",
       " '10952873_10156519629435471_1028679557469963568_o.jpg',\n",
       " '11807216_10155848492765471_8416852064325502335_o.jpg',\n",
       " '12658007_10156492000555471_3862015621197578393_o.jpg',\n",
       " '12717970_10156712829225471_6875802250622494494_n.jpg',\n",
       " '12994334_10156795340475471_4502654111914636014_n.jpg',\n",
       " '1508993_10153691901295471_2041912676_n.jpg',\n",
       " '17DEC 22 DEEC TICKET.pdf',\n",
       " '1913566_10156685592800471_1815527220974662435_n.jpg',\n",
       " '1_HWn0iyi4EO-hiqdnUTawJQ.jpeg',\n",
       " '1_w4iCL-YFR6jPI6iRCMj24w.jpeg',\n",
       " '20170718_215555.jpg',\n",
       " '21015842_10159223496950471_5464969582926820090_o.jpg',\n",
       " '22552545_10159511221855471_2814366963168852661_n.jpg',\n",
       " 'aadhar complete.pdf',\n",
       " 'aadhar.docx',\n",
       " 'aadhar1.jpg',\n",
       " 'aadhar2.jpg',\n",
       " 'adult.data.txt',\n",
       " 'Ajay Ohri Resume V1.2.doc.docx',\n",
       " 'Ajay Ohri Resume.doc.docx',\n",
       " 'Ajay Ohri.pdf',\n",
       " 'ajay.jpg',\n",
       " 'Bank of America _ Online Banking _ Accounts _ Account Details _ Information and Services.pdf',\n",
       " 'boa dd.pdf',\n",
       " 'bp.pdf',\n",
       " 'Credit Scoring',\n",
       " 'desktop.ini',\n",
       " 'dump 2582017',\n",
       " 'february 2018.pdf',\n",
       " 'FINAL Electronic Funds Transfer Form (2016).pdf',\n",
       " 'flight 1 jan.PDF',\n",
       " 'Form W-8 BEN (Rev. July 2017).pdf',\n",
       " 'Fusion Church.html',\n",
       " 'Fusion Church_files',\n",
       " 'fw7.pdf',\n",
       " 'Gmail - Your Saturday ride to Indira Gandhi International Airport.pdf',\n",
       " 'Gmail - Your trip with GO-JEK on Saturday, 16 December 2017.pdf',\n",
       " 'GoAir _ Airline Tickets and Fares - Boarding Pass.pdf',\n",
       " 'IMG-20170904-WA0004.jpg',\n",
       " 'incidents_offenses_victims_and_known_offenders_by_offense_category_2015.xls',\n",
       " 'income tax calculation.pdf',\n",
       " 'interns',\n",
       " 'Interview Questionnaire - Data Scientist.docx',\n",
       " 'iris.csv',\n",
       " 'january 2018 supplementary.pdf',\n",
       " 'january 2018.pdf',\n",
       " 'Jet Airways Mobile Booking eTicket ( LWWJDV ) - Ohri.pdf',\n",
       " 'KOG',\n",
       " 'Lab Reports.pdf',\n",
       " 'march 2018 supplementary.pdf',\n",
       " 'march 2018.pdf',\n",
       " 'medication.xlsx',\n",
       " 'Michelangelo,_Creation_of_Adam_06.jpg',\n",
       " 'NF22997109906610.ETicket.pdf',\n",
       " 'pyspark.html',\n",
       " 'pyspark.ipynb',\n",
       " 'pyspark.md',\n",
       " 'pyspark.pdf',\n",
       " 'R Packages',\n",
       " 'resume.docx',\n",
       " 'Select your seat and Web Checkin online -IndiGo.pdf',\n",
       " 'SpiceJet_E-ticket_PNR OFDNMH - 01 Jan 2018 Delhi-Hyderabad for MR. OHRI.PDF',\n",
       " 'Tax_Withholding_Rate_CY_2013.pdf',\n",
       " 'Telegram.lnk',\n",
       " 'The Principal Components of Principal Component An... - SAS Support Communities.html',\n",
       " 'The Principal Components of Principal Component An... - SAS Support Communities_files',\n",
       " 'Travel Reimburesement.docx',\n",
       " 'twitter_share.jpg',\n",
       " 'UMA-SAP',\n",
       " 'UMA-SAP.zip',\n",
       " 'victims_age_category_by_offense_category_2015.xls',\n",
       " 'wells fargo account details.png',\n",
       " 'wells fargo address for wire - Google Search.pdf',\n",
       " 'Wells fargo address.txt',\n",
       " 'wells fargo check.jpg',\n",
       " 'Wells fargo direct deposit.pdf',\n",
       " 'WhatsApp.lnk',\n",
       " 'WhatsAppSetup.exe',\n",
       " 'Wiley - Electronic Funds Transfer (Signature) (1).pdf',\n",
       " 'Wiley - Electronic Funds Transfer (Signature).pdf',\n",
       " 'winutils.exe',\n",
       " '_AAIA_wDGAAEAAQAAAAAAAAz3AAAAJGExZmQ2ZWI0LTc5NjgtNGU2OS04MmQ5LTczN2QyYWY0N2I4Ng.docx',\n",
       " '~$avel Reimbursements.docx',\n",
       " '~$thonajay.docx']"
      ]
     },
     "execution_count": 6,
     "metadata": {},
     "output_type": "execute_result"
    }
   ],
   "source": [
    "os.listdir()"
   ]
  },
  {
   "cell_type": "code",
   "execution_count": 7,
   "metadata": {
    "collapsed": true
   },
   "outputs": [],
   "source": [
    "iris=pd.read_csv('iris.csv')"
   ]
  },
  {
   "cell_type": "code",
   "execution_count": 8,
   "metadata": {
    "collapsed": false
   },
   "outputs": [
    {
     "data": {
      "text/html": [
       "<div>\n",
       "<table border=\"1\" class=\"dataframe\">\n",
       "  <thead>\n",
       "    <tr style=\"text-align: right;\">\n",
       "      <th></th>\n",
       "      <th>Sepal.Length</th>\n",
       "      <th>Sepal.Width</th>\n",
       "      <th>Petal.Length</th>\n",
       "      <th>Petal.Width</th>\n",
       "    </tr>\n",
       "  </thead>\n",
       "  <tbody>\n",
       "    <tr>\n",
       "      <th>count</th>\n",
       "      <td>150.000000</td>\n",
       "      <td>150.000000</td>\n",
       "      <td>150.000000</td>\n",
       "      <td>150.000000</td>\n",
       "    </tr>\n",
       "    <tr>\n",
       "      <th>mean</th>\n",
       "      <td>5.843333</td>\n",
       "      <td>3.057333</td>\n",
       "      <td>3.758000</td>\n",
       "      <td>1.199333</td>\n",
       "    </tr>\n",
       "    <tr>\n",
       "      <th>std</th>\n",
       "      <td>0.828066</td>\n",
       "      <td>0.435866</td>\n",
       "      <td>1.765298</td>\n",
       "      <td>0.762238</td>\n",
       "    </tr>\n",
       "    <tr>\n",
       "      <th>min</th>\n",
       "      <td>4.300000</td>\n",
       "      <td>2.000000</td>\n",
       "      <td>1.000000</td>\n",
       "      <td>0.100000</td>\n",
       "    </tr>\n",
       "    <tr>\n",
       "      <th>25%</th>\n",
       "      <td>5.100000</td>\n",
       "      <td>2.800000</td>\n",
       "      <td>1.600000</td>\n",
       "      <td>0.300000</td>\n",
       "    </tr>\n",
       "    <tr>\n",
       "      <th>50%</th>\n",
       "      <td>5.800000</td>\n",
       "      <td>3.000000</td>\n",
       "      <td>4.350000</td>\n",
       "      <td>1.300000</td>\n",
       "    </tr>\n",
       "    <tr>\n",
       "      <th>75%</th>\n",
       "      <td>6.400000</td>\n",
       "      <td>3.300000</td>\n",
       "      <td>5.100000</td>\n",
       "      <td>1.800000</td>\n",
       "    </tr>\n",
       "    <tr>\n",
       "      <th>max</th>\n",
       "      <td>7.900000</td>\n",
       "      <td>4.400000</td>\n",
       "      <td>6.900000</td>\n",
       "      <td>2.500000</td>\n",
       "    </tr>\n",
       "  </tbody>\n",
       "</table>\n",
       "</div>"
      ],
      "text/plain": [
       "       Sepal.Length  Sepal.Width  Petal.Length  Petal.Width\n",
       "count    150.000000   150.000000    150.000000   150.000000\n",
       "mean       5.843333     3.057333      3.758000     1.199333\n",
       "std        0.828066     0.435866      1.765298     0.762238\n",
       "min        4.300000     2.000000      1.000000     0.100000\n",
       "25%        5.100000     2.800000      1.600000     0.300000\n",
       "50%        5.800000     3.000000      4.350000     1.300000\n",
       "75%        6.400000     3.300000      5.100000     1.800000\n",
       "max        7.900000     4.400000      6.900000     2.500000"
      ]
     },
     "execution_count": 8,
     "metadata": {},
     "output_type": "execute_result"
    }
   ],
   "source": [
    "iris.describe()"
   ]
  },
  {
   "cell_type": "code",
   "execution_count": 10,
   "metadata": {
    "collapsed": false
   },
   "outputs": [
    {
     "data": {
      "text/plain": [
       "Sepal.Length    float64\n",
       "Sepal.Width     float64\n",
       "Petal.Length    float64\n",
       "Petal.Width     float64\n",
       "Species          object\n",
       "dtype: object"
      ]
     },
     "execution_count": 10,
     "metadata": {},
     "output_type": "execute_result"
    }
   ],
   "source": [
    "iris.dtypes"
   ]
  },
  {
   "cell_type": "code",
   "execution_count": 11,
   "metadata": {
    "collapsed": false
   },
   "outputs": [
    {
     "data": {
      "text/plain": [
       "pandas.core.frame.DataFrame"
      ]
     },
     "execution_count": 11,
     "metadata": {},
     "output_type": "execute_result"
    }
   ],
   "source": [
    "type(iris)"
   ]
  },
  {
   "cell_type": "code",
   "execution_count": 12,
   "metadata": {
    "collapsed": false
   },
   "outputs": [
    {
     "data": {
      "text/plain": [
       "150"
      ]
     },
     "execution_count": 12,
     "metadata": {},
     "output_type": "execute_result"
    }
   ],
   "source": [
    "len(iris)"
   ]
  },
  {
   "cell_type": "code",
   "execution_count": 13,
   "metadata": {
    "collapsed": true
   },
   "outputs": [],
   "source": [
    "iris2=iris.groupby(\"Species\")"
   ]
  },
  {
   "cell_type": "code",
   "execution_count": 23,
   "metadata": {
    "collapsed": false
   },
   "outputs": [
    {
     "data": {
      "text/html": [
       "<div>\n",
       "<table border=\"1\" class=\"dataframe\">\n",
       "  <thead>\n",
       "    <tr style=\"text-align: right;\">\n",
       "      <th></th>\n",
       "      <th>Sepal.Length</th>\n",
       "    </tr>\n",
       "    <tr>\n",
       "      <th>Species</th>\n",
       "      <th></th>\n",
       "    </tr>\n",
       "  </thead>\n",
       "  <tbody>\n",
       "    <tr>\n",
       "      <th>setosa</th>\n",
       "      <td>5.006</td>\n",
       "    </tr>\n",
       "    <tr>\n",
       "      <th>versicolor</th>\n",
       "      <td>5.936</td>\n",
       "    </tr>\n",
       "    <tr>\n",
       "      <th>virginica</th>\n",
       "      <td>6.588</td>\n",
       "    </tr>\n",
       "  </tbody>\n",
       "</table>\n",
       "</div>"
      ],
      "text/plain": [
       "            Sepal.Length\n",
       "Species                 \n",
       "setosa             5.006\n",
       "versicolor         5.936\n",
       "virginica          6.588"
      ]
     },
     "execution_count": 23,
     "metadata": {},
     "output_type": "execute_result"
    }
   ],
   "source": [
    "iris2[[\"Sepal.Length\"]].mean()"
   ]
  },
  {
   "cell_type": "markdown",
   "metadata": {},
   "source": [
    "PLEASE ENTER COMMENTS HERE"
   ]
  },
  {
   "cell_type": "code",
   "execution_count": 19,
   "metadata": {
    "collapsed": true
   },
   "outputs": [],
   "source": [
    "\n",
    "from pandasql import sqldf"
   ]
  },
  {
   "cell_type": "code",
   "execution_count": 21,
   "metadata": {
    "collapsed": false
   },
   "outputs": [
    {
     "data": {
      "text/html": [
       "<div>\n",
       "<table border=\"1\" class=\"dataframe\">\n",
       "  <thead>\n",
       "    <tr style=\"text-align: right;\">\n",
       "      <th></th>\n",
       "      <th>Length')</th>\n",
       "      <th>Species</th>\n",
       "    </tr>\n",
       "  </thead>\n",
       "  <tbody>\n",
       "    <tr>\n",
       "      <th>0</th>\n",
       "      <td>0.0</td>\n",
       "      <td>setosa</td>\n",
       "    </tr>\n",
       "    <tr>\n",
       "      <th>1</th>\n",
       "      <td>0.0</td>\n",
       "      <td>versicolor</td>\n",
       "    </tr>\n",
       "    <tr>\n",
       "      <th>2</th>\n",
       "      <td>0.0</td>\n",
       "      <td>virginica</td>\n",
       "    </tr>\n",
       "  </tbody>\n",
       "</table>\n",
       "</div>"
      ],
      "text/plain": [
       "   Length')     Species\n",
       "0       0.0      setosa\n",
       "1       0.0  versicolor\n",
       "2       0.0   virginica"
      ]
     },
     "execution_count": 21,
     "metadata": {},
     "output_type": "execute_result"
    }
   ],
   "source": [
    "sqldf(\"SELECT avg('Sepal.Length'),Species FROM iris group by Species ;\")"
   ]
  },
  {
   "cell_type": "code",
   "execution_count": 25,
   "metadata": {
    "collapsed": false
   },
   "outputs": [
    {
     "data": {
      "text/plain": [
       "setosa        50\n",
       "versicolor    50\n",
       "virginica     50\n",
       "Name: Species, dtype: int64"
      ]
     },
     "execution_count": 25,
     "metadata": {},
     "output_type": "execute_result"
    }
   ],
   "source": [
    "pd.value_counts(iris.Species)"
   ]
  },
  {
   "cell_type": "code",
   "execution_count": 30,
   "metadata": {
    "collapsed": true
   },
   "outputs": [],
   "source": [
    "import seaborn as sns\n",
    "%matplotlib inline"
   ]
  },
  {
   "cell_type": "code",
   "execution_count": 31,
   "metadata": {
    "collapsed": false
   },
   "outputs": [
    {
     "data": {
      "image/png": "[encoded data removed]",
      "text/plain": [
       "<matplotlib.figure.Figure at 0xb551cf8>"
      ]
     },
     "metadata": {},
     "output_type": "display_data"
    }
   ],
   "source": [
    "sns.distplot(iris[['Sepal.Length']], bins=20, kde=True, rug=False);"
   ]
  },
  {
   "cell_type": "code",
   "execution_count": null,
   "metadata": {
    "collapsed": true
   },
   "outputs": [],
   "source": []
  }
 ],
 "metadata": {
  "anaconda-cloud": {},
  "kernelspec": {
   "display_name": "Python [conda root]",
   "language": "python",
   "name": "conda-root-py"
  },
  "language_info": {
   "codemirror_mode": {
    "name": "ipython",
    "version": 3
   },
   "file_extension": ".py",
   "mimetype": "text/x-python",
   "name": "python",
   "nbconvert_exporter": "python",
   "pygments_lexer": "ipython3",
   "version": "3.5.2"
  }
 },
 "nbformat": 4,
 "nbformat_minor": 1
}
